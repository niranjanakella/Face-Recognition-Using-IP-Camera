{
  "nbformat": 4,
  "nbformat_minor": 0,
  "metadata": {
    "colab": {
      "name": "Data_Augmentation.ipynb",
      "provenance": [],
      "collapsed_sections": [],
      "authorship_tag": "ABX9TyMPT2Az58lsC9cLNUTdvPVL",
      "include_colab_link": true
    },
    "kernelspec": {
      "display_name": "Python 3",
      "name": "python3"
    },
    "language_info": {
      "name": "python"
    }
  },
  "cells": [
    {
      "cell_type": "markdown",
      "metadata": {
        "id": "view-in-github",
        "colab_type": "text"
      },
      "source": [
        "<a href=\"https://colab.research.google.com/github/niranjanstudy06/Face-Recognition-Using-IP-Camera/blob/main/Data_Augmentation%26Model_Training.ipynb\" target=\"_parent\"><img src=\"https://colab.research.google.com/assets/colab-badge.svg\" alt=\"Open In Colab\"/></a>"
      ]
    },
    {
      "cell_type": "markdown",
      "metadata": {
        "id": "Ksl0GTrXIKqZ"
      },
      "source": [
        "# Directions to augment your own data\n",
        "\n",
        "- Firstly, create a folder on your google drive containing the images that you want to augment.\n",
        "\n",
        "- Then mount your google drive using the first code cell below. \n",
        "- "
      ]
    },
    {
      "cell_type": "markdown",
      "metadata": {
        "id": "VovaYWf6V9dc"
      },
      "source": [
        "#Script for augmentation of image"
      ]
    },
    {
      "cell_type": "markdown",
      "metadata": {
        "id": "lGTjNy-KGhGw"
      },
      "source": [
        "## Linking your Google Drive"
      ]
    },
    {
      "cell_type": "markdown",
      "metadata": {
        "id": "3Eya3ztvWb4W"
      },
      "source": [
        "- When you run the below cell it will display a link and a dialogue box to paste your access code. Click on that and signin with your google account.\n",
        "- After signing in, you will be given an access code that you have to paste here.\n",
        "- As soon as you paste the code & press enter, your google drive will be mounted as Drive."
      ]
    },
    {
      "cell_type": "code",
      "metadata": {
        "colab": {
          "base_uri": "https://localhost:8080/"
        },
        "id": "lEBmdBmrHfOG",
        "outputId": "18185bf1-7107-4272-f3ee-1cced2e2a5ab"
      },
      "source": [
        "from google.colab import drive\n",
        "drive.mount('/content/Drive/')"
      ],
      "execution_count": null,
      "outputs": [
        {
          "output_type": "stream",
          "text": [
            "Mounted at /content/drive/\n"
          ],
          "name": "stdout"
        }
      ]
    },
    {
      "cell_type": "markdown",
      "metadata": {
        "id": "lgsn8Y9YHsT_"
      },
      "source": [
        "- In the below cell, \"image_directory\" referes to the directory where all the images are stored i.e; give the path to the images folder."
      ]
    },
    {
      "cell_type": "code",
      "metadata": {
        "id": "iW5eZabtuN95"
      },
      "source": [
        "import os\n",
        "image_directory='/content/drive/MyDrive/Augmentation/'\n",
        "\n",
        "#Set it as your default directory\n",
        "os.chdir(image_directory)"
      ],
      "execution_count": null,
      "outputs": []
    },
    {
      "cell_type": "code",
      "metadata": {
        "colab": {
          "base_uri": "https://localhost:8080/"
        },
        "id": "Ou8GV_dNuVa8",
        "outputId": "7d788243-f41b-4b8e-e66a-990bbba9bccb"
      },
      "source": [
        "#List of all the image paths\n",
        "import glob\n",
        "image_paths_lst = glob.glob(image_directory+'*.jpg')\n",
        "image_paths_lst"
      ],
      "execution_count": null,
      "outputs": [
        {
          "output_type": "execute_result",
          "data": {
            "text/plain": [
              "['/content/drive/MyDrive/Augmentation/Niranjan.jpg',\n",
              " '/content/drive/MyDrive/Augmentation/AMS.jpg',\n",
              " '/content/drive/MyDrive/Augmentation/ARL.jpg']"
            ]
          },
          "metadata": {
            "tags": []
          },
          "execution_count": 86
        }
      ]
    },
    {
      "cell_type": "markdown",
      "metadata": {
        "id": "TDcMo1EXt6TQ"
      },
      "source": [
        "- The below code snippet creates sub-folders inside the same images folder with the name of each image. i.e; \n",
        "\n",
        "Example: You want 50 images"
      ]
    },
    {
      "cell_type": "code",
      "metadata": {
        "id": "rvWzy73xEojC"
      },
      "source": [
        "from keras.preprocessing.image import ImageDataGenerator\n",
        "from skimage import io\n",
        "datagen = ImageDataGenerator(        \n",
        "        rotation_range = 40,\n",
        "        shear_range = 0.2,\n",
        "        zoom_range = 0.2,\n",
        "        horizontal_flip = True,\n",
        "        brightness_range = (0.5, 1.5))\n",
        "import numpy as np\n",
        "import os\n",
        "from PIL import Image\n",
        "import cv2\n",
        "import shutil\n",
        "\n",
        "Number_of_copies = 50\n",
        "\n",
        "dataset = []\n",
        "for img_name in image_paths_lst:\n",
        "  \n",
        "#my_images = os.listdir(image_directory)\n",
        "#for i, image_name in enumerate(my_images):    \n",
        "  #  if (image_name.split('.')[1] == 'jpg'):  \n",
        "  dataset = []      \n",
        "  image = io.imread(img_name)        \n",
        "  image = Image.fromarray(image, 'RGB')        \n",
        "  image = image.resize((image.size[1],image.size[0])) \n",
        "  dataset.append(np.array(image))\n",
        "  x = np.array(dataset)\n",
        "  i = 0\n",
        "  if(os.path.isdir(os.path.basename(img_name).split('.')[0])):\n",
        "    shutil.rmtree(os.path.basename(img_name).split('.')[0])\n",
        "    os.mkdir(os.path.basename(img_name).split('.')[0])\n",
        "\n",
        "  else:os.mkdir(os.path.basename(img_name).split('.')[0])\n",
        "  for batch in datagen.flow(x, batch_size=1,\n",
        "                            save_to_dir= image_directory+os.path.basename(img_name).split('.')[0]+'/',\n",
        "                            save_prefix=os.path.basename(img_name).split('.')[0],\n",
        "                            save_format='jpg'):    \n",
        "      i += 1    \n",
        "      if i > Number_of_copies:        \n",
        "          break"
      ],
      "execution_count": null,
      "outputs": []
    },
    {
      "cell_type": "markdown",
      "metadata": {
        "id": "58Y7VHNy0cOd"
      },
      "source": [
        "## Display the Augmented Image"
      ]
    },
    {
      "cell_type": "code",
      "metadata": {
        "id": "LNCHIQx2JdV8"
      },
      "source": [
        "from google.colab.patches import cv2_imshow\n",
        "\n",
        "directory_name = 'Niranjan'\n",
        "image_number = 50\n",
        "\n",
        "img = os.listdir(directory_name)\n",
        "img = os.path.join(directory_name,img[image_number])\n",
        "img = cv2.imread(img)\n",
        "# img = Image.fromarray(img,'RGB')\n",
        "# img = img.resize((img.size[1],img.size[0]))\n",
        "cv2_imshow(img)"
      ],
      "execution_count": null,
      "outputs": []
    },
    {
      "cell_type": "markdown",
      "metadata": {
        "id": "A0hHSPmedyPe"
      },
      "source": [
        "# Training the Face Recognition Model"
      ]
    },
    {
      "cell_type": "code",
      "metadata": {
        "id": "yVqBBiHMzaOc"
      },
      "source": [
        ""
      ],
      "execution_count": null,
      "outputs": []
    }
  ]
}